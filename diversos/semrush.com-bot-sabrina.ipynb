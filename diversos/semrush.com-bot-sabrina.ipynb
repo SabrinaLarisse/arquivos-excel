{
 "cells": [
  {
   "cell_type": "code",
   "execution_count": null,
   "metadata": {},
   "outputs": [],
   "source": [
    "from  selenium import webdriver \n",
    "import pandas as pd\n",
    "import numpy as np\n",
    "from bs4 import BeautifulSoup\n",
    "from urllib.request import urlopen\n",
    "driver = webdriver.Chrome(executable_path='C:\\\\Users\\\\Sabrina\\\\Desktop\\\\chromedriver.exe') \n",
    "#\"Defina o caminho para o executável do Chromedriver\"\n",
    "planilha = pd.read_excel(\"c:\\\\Users\\\\Sabrina\\\\Downloads\\\\Teste_Python\\\\websites.xlsx\", header=1) \n",
    "#\"Defina o caminho para a planilha do excel contendo os sites\""
   ]
  },
  {
   "cell_type": "code",
   "execution_count": null,
   "metadata": {},
   "outputs": [],
   "source": [
    "#função que navega e recolhe os dados do site\n",
    "def extrair(endereco):\n",
    "    try:\n",
    "        driver.get(endereco)\n",
    "        dados = driver.page_source\n",
    "        bsObj  = BeautifulSoup(dados, \"html.parser\")\n",
    "        pesquisa_organica= bsObj.find(\"a\",{\"class\": \"s-report__counter\"}).text.strip()\n",
    "        pesquisa_paga = bsObj.find_all(\"a\",{\"class\": \"s-report__counter\"})[1].text.strip()\n",
    "        backlinks= bsObj.find_all(\"a\",{\"class\": \"s-report__counter\"})[2].text.strip()\n",
    "        custo_trafego=bsObj.find_all(\"span\", {\"class\":\"currency-sign\"})[0].next_element.next_element.next_element.next_element.strip()\n",
    "        trafego_pago=bsObj.find_all(\"span\", {\"class\":\"currency-sign\"})[1].next_element.next_element.next_element.next_element.strip()\n",
    "\n",
    "        return pesquisa_organica, pesquisa_paga, backlinks, custo_trafego,trafego_pago\n",
    "        \n",
    "    except:\n",
    "        return('s/ info', 's/ info', 's/ info', 's/ info', 's/ info')\n"
   ]
  },
  {
   "cell_type": "code",
   "execution_count": null,
   "metadata": {},
   "outputs": [],
   "source": [
    "#Chama a função que recolhe os dados dos sites e preenche as colunas linha a linha\n",
    "\n",
    "for i in range(len(planilha.URL)): \n",
    "    #Se quiser ler somente uma quantidade fixa de linhas, substitua \"len(planilha.URL)\" pela quantidade pré-definida\n",
    "    x = extrair('https://www.semrush.com/br/info/' + planilha.URL[i])\n",
    "    planilha.loc[i,'Organic Serch'] = x[0]\n",
    "    planilha.loc[i,'Paid Search'] = x[1]\n",
    "    planilha.loc[i,'BACKLINKS'] = x[2]\n",
    "    planilha.loc[i,'Custo do tráfego'] = x[3]\n",
    "    planilha.loc[i,'Custo do tráfego.1'] = x[4]\n",
    "planilha[' PESQUISA ORGÂNICA']=planilha['Organic Serch'].copy()\n",
    "planilha[' PESQUISA PAGA']=planilha['Paid Search'].copy()\n",
    "#Defina o caminho para exportar o arquivo final.\n",
    "planilha.to_excel(\"Desktop/outputsemrush.xlsx\", index= False)\n",
    "driver.close()"
   ]
  },
  {
   "cell_type": "code",
   "execution_count": null,
   "metadata": {},
   "outputs": [],
   "source": []
  }
 ],
 "metadata": {
  "kernelspec": {
   "display_name": "Python 3",
   "language": "python",
   "name": "python3"
  },
  "language_info": {
   "codemirror_mode": {
    "name": "ipython",
    "version": 3
   },
   "file_extension": ".py",
   "mimetype": "text/x-python",
   "name": "python",
   "nbconvert_exporter": "python",
   "pygments_lexer": "ipython3",
   "version": "3.7.1"
  }
 },
 "nbformat": 4,
 "nbformat_minor": 2
}
